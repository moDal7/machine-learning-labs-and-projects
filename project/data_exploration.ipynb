{
 "cells": [
  {
   "cell_type": "markdown",
   "metadata": {},
   "source": [
    "### Data exploration notebook\n",
    "\n",
    "This notebook will be used for data exploration, representation, and to get a general sense of the content of the dataset.\n",
    "More info about the dataset can be found in the info.md file, where a general explanation of the dimensions is provided."
   ]
  },
  {
   "cell_type": "code",
   "execution_count": 4,
   "metadata": {},
   "outputs": [],
   "source": [
    "import numpy as np\n",
    "import matplotlib.pyplot as plt\n",
    "import sklearn.datasets"
   ]
  },
  {
   "cell_type": "code",
   "execution_count": 5,
   "metadata": {},
   "outputs": [],
   "source": [
    "def mcol(v):\n",
    "    return v.reshape((v.size, 1))\n",
    "\n",
    "def compute_mean(X):\n",
    "    return mcol(X.mean(0))"
   ]
  },
  {
   "cell_type": "markdown",
   "metadata": {},
   "source": [
    "#### Data loading\n",
    "\n",
    "Loading the data as column vectors. "
   ]
  },
  {
   "cell_type": "code",
   "execution_count": 6,
   "metadata": {},
   "outputs": [],
   "source": [
    "fname = \"./data/Train.txt\"\n",
    "\n",
    "def load_set(file_name):\n",
    "    att_list = []\n",
    "    class_list = []\n",
    "    with open(file_name) as train:\n",
    "        for line in train:\n",
    "            try:\n",
    "                attrs = line.split(',')[0:11]\n",
    "                attrs = mcol(np.array([float(i) for i in attrs]))\n",
    "                wine_class = line.split(',')[-1].strip('\\n')\n",
    "                att_list.append(attrs)\n",
    "                np.array(class_list.append(wine_class),  dtype=np.int32)\n",
    "            except:\n",
    "                pass\n",
    "    return np.hstack(att_list), np.hstack(class_list)\n",
    "\n",
    "def dataset_means(data):\n",
    "    data_mean  = []\n",
    "    for i in range(data.shape[0]):\n",
    "        data_mean.append(compute_mean(data[i, :]))\n",
    "    return data_mean\n",
    "\n",
    "A, W_c = load_set(fname) \n",
    "a_mean = dataset_means(A)\n"
   ]
  },
  {
   "cell_type": "markdown",
   "metadata": {},
   "source": [
    "#### Data plotting\n",
    "\n",
    "Plotting couples of attributes, along with their mean and color coded for class 0 and 1."
   ]
  },
  {
   "cell_type": "code",
   "execution_count": null,
   "metadata": {},
   "outputs": [],
   "source": []
  }
 ],
 "metadata": {
  "kernelspec": {
   "display_name": "Python 3.10.4 ('venv')",
   "language": "python",
   "name": "python3"
  },
  "language_info": {
   "codemirror_mode": {
    "name": "ipython",
    "version": 3
   },
   "file_extension": ".py",
   "mimetype": "text/x-python",
   "name": "python",
   "nbconvert_exporter": "python",
   "pygments_lexer": "ipython3",
   "version": "3.10.4"
  },
  "orig_nbformat": 4,
  "vscode": {
   "interpreter": {
    "hash": "f850644480365c0e05d4f42498506503c853b8d04b915fee0c8ee9cbd73e49bb"
   }
  }
 },
 "nbformat": 4,
 "nbformat_minor": 2
}
